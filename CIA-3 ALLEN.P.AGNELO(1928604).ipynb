{
 "cells": [
  {
   "cell_type": "markdown",
   "metadata": {},
   "source": [
    "*Telecommunication customer churn*\n",
    "\n",
    "CIA-3\n",
    "(ALLEN.P.AGNELO)\n",
    "1928604 "
   ]
  },
  {
   "cell_type": "markdown",
   "metadata": {},
   "source": [
    "*Business Understanding\n",
    "\n",
    "Numerous telecom companies are present all over the world. Telecommunication market is facing a\n",
    "severe loss of revenue due to increasing competition among them and loss of potential customers.\n",
    "Many companies are finding the reasons of losing customers by measuring customer loyalty to regain\n",
    "the lost customers. To keep up in the competition and to acquire as many customers, most operators\n",
    "invest a huge amount of revenue to expand their business in the beginning. Therefore, it has become\n",
    "important for the operators to earn back the amount they invested along with at least the minimum\n",
    "profit within a very short period of time."
   ]
  },
  {
   "cell_type": "markdown",
   "metadata": {},
   "source": [
    "*Purpose of study\n",
    " \n",
    "Churn rate is the measurement for the number of customers moving out and in during a specific period of time. If the reason for churning is known, the providers can then improve their services to fulfil the needs of the customers. Churns can be reduced\n",
    "by analysing the past history of the potential customers systematically. Large amount of information is maintained by telecom companies for each of their customers that keeps on changing rapidly due to competitive environment.\n",
    "\n",
    "This information includes the details about billing, calls and network data. The huge availability of information arises the scope of using Data mining techniques in the telecom database. The information available can be analysed in different perspectives to provide various ways to the operators to predict and reduce churning. Only the relevant details are used in analysis which contribute to the study from the information given. "
   ]
  },
  {
   "cell_type": "markdown",
   "metadata": {},
   "source": [
    "*Data Understanding\n",
    "\n",
    "The Telecom customer churn data contains information about a fictional telecom company that\n",
    "provided home phone and Internet services to 7043 customers in California. \n",
    "\n",
    "It indicates which customers have left, stayed, or signed up for their service. This data module tracks a fictional telco\n",
    "company's customer churn based on a variety of possible factors. The churn column indicates whether\n",
    "or not the customer left within the last month. Other columns include gender, dependents, monthly\n",
    "charges, and many with information about the types of services each customer has."
   ]
  },
  {
   "cell_type": "code",
   "execution_count": 8,
   "metadata": {},
   "outputs": [],
   "source": [
    "#Importing libraries\n",
    "import numpy as np # linear algebra\n",
    "import pandas as pd # data processing, CSV file I/O (e.g. pd.read_csv)\n",
    "# Input data files are available in the \"../input/\" directory.\n",
    "import os\n",
    "import matplotlib.pyplot as plt#visualization\n",
    "from PIL import  Image\n",
    "%matplotlib inline\n",
    "import pandas as pd\n",
    "import seaborn as sns#visualization\n",
    "import itertools\n",
    "import warnings\n",
    "warnings.filterwarnings(\"ignore\")\n",
    "import io\n",
    "\n"
   ]
  },
  {
   "cell_type": "code",
   "execution_count": 9,
   "metadata": {},
   "outputs": [],
   "source": [
    "#First we start by reading the data \n",
    "telcom=pd.read_csv('C:\\R\\datasets_13996_18858_WA_Fn-UseC_-Telco-Customer-Churn (1).csv')"
   ]
  },
  {
   "cell_type": "code",
   "execution_count": 10,
   "metadata": {},
   "outputs": [
    {
     "name": "stdout",
     "output_type": "stream",
     "text": [
      "      customerID  gender  SeniorCitizen Partner Dependents  tenure  \\\n",
      "0     7590-VHVEG  Female              0     Yes         No       1   \n",
      "1     5575-GNVDE    Male              0      No         No      34   \n",
      "2     3668-QPYBK    Male              0      No         No       2   \n",
      "3     7795-CFOCW    Male              0      No         No      45   \n",
      "4     9237-HQITU  Female              0      No         No       2   \n",
      "5     9305-CDSKC  Female              0      No         No       8   \n",
      "6     1452-KIOVK    Male              0      No        Yes      22   \n",
      "7     6713-OKOMC  Female              0      No         No      10   \n",
      "8     7892-POOKP  Female              0     Yes         No      28   \n",
      "9     6388-TABGU    Male              0      No        Yes      62   \n",
      "10    9763-GRSKD    Male              0     Yes        Yes      13   \n",
      "11    7469-LKBCI    Male              0      No         No      16   \n",
      "12    8091-TTVAX    Male              0     Yes         No      58   \n",
      "13    0280-XJGEX    Male              0      No         No      49   \n",
      "14    5129-JLPIS    Male              0      No         No      25   \n",
      "15    3655-SNQYZ  Female              0     Yes        Yes      69   \n",
      "16    8191-XWSZG  Female              0      No         No      52   \n",
      "17    9959-WOFKT    Male              0      No        Yes      71   \n",
      "18    4190-MFLUW  Female              0     Yes        Yes      10   \n",
      "19    4183-MYFRB  Female              0      No         No      21   \n",
      "20    8779-QRDMV    Male              1      No         No       1   \n",
      "21    1680-VDCWW    Male              0     Yes         No      12   \n",
      "22    1066-JKSGK    Male              0      No         No       1   \n",
      "23    3638-WEABW  Female              0     Yes         No      58   \n",
      "24    6322-HRPFA    Male              0     Yes        Yes      49   \n",
      "25    6865-JZNKO  Female              0      No         No      30   \n",
      "26    6467-CHFZW    Male              0     Yes        Yes      47   \n",
      "27    8665-UTDHZ    Male              0     Yes        Yes       1   \n",
      "28    5248-YGIJN    Male              0     Yes         No      72   \n",
      "29    8773-HHUOZ  Female              0      No        Yes      17   \n",
      "...          ...     ...            ...     ...        ...     ...   \n",
      "7013  1685-BQULA  Female              0      No         No      40   \n",
      "7014  9053-EJUNL    Male              0      No         No      41   \n",
      "7015  0666-UXTJO    Male              1     Yes         No      34   \n",
      "7016  1471-GIQKQ  Female              0      No         No       1   \n",
      "7017  4807-IZYOZ  Female              0      No         No      51   \n",
      "7018  1122-JWTJW    Male              0     Yes        Yes       1   \n",
      "7019  9710-NJERN  Female              0      No         No      39   \n",
      "7020  9837-FWLCH    Male              0     Yes        Yes      12   \n",
      "7021  1699-HPSBG    Male              0      No         No      12   \n",
      "7022  7203-OYKCT    Male              0      No         No      72   \n",
      "7023  1035-IPQPU  Female              1     Yes         No      63   \n",
      "7024  7398-LXGYX    Male              0     Yes         No      44   \n",
      "7025  2823-LKABH  Female              0      No         No      18   \n",
      "7026  8775-CEBBJ  Female              0      No         No       9   \n",
      "7027  0550-DCXLH    Male              0      No         No      13   \n",
      "7028  9281-CEDRU  Female              0     Yes         No      68   \n",
      "7029  2235-DWLJU  Female              1      No         No       6   \n",
      "7030  0871-OPBXW  Female              0      No         No       2   \n",
      "7031  3605-JISKB    Male              1     Yes         No      55   \n",
      "7032  6894-LFHLY    Male              1      No         No       1   \n",
      "7033  9767-FFLEM    Male              0      No         No      38   \n",
      "7034  0639-TSIQW  Female              0      No         No      67   \n",
      "7035  8456-QDAVC    Male              0      No         No      19   \n",
      "7036  7750-EYXWZ  Female              0      No         No      12   \n",
      "7037  2569-WGERO  Female              0      No         No      72   \n",
      "7038  6840-RESVB    Male              0     Yes        Yes      24   \n",
      "7039  2234-XADUH  Female              0     Yes        Yes      72   \n",
      "7040  4801-JZAZL  Female              0     Yes        Yes      11   \n",
      "7041  8361-LTMKD    Male              1     Yes         No       4   \n",
      "7042  3186-AJIEK    Male              0      No         No      66   \n",
      "\n",
      "     PhoneService     MultipleLines InternetService       OnlineSecurity  ...  \\\n",
      "0              No  No phone service             DSL                   No  ...   \n",
      "1             Yes                No             DSL                  Yes  ...   \n",
      "2             Yes                No             DSL                  Yes  ...   \n",
      "3              No  No phone service             DSL                  Yes  ...   \n",
      "4             Yes                No     Fiber optic                   No  ...   \n",
      "5             Yes               Yes     Fiber optic                   No  ...   \n",
      "6             Yes               Yes     Fiber optic                   No  ...   \n",
      "7              No  No phone service             DSL                  Yes  ...   \n",
      "8             Yes               Yes     Fiber optic                   No  ...   \n",
      "9             Yes                No             DSL                  Yes  ...   \n",
      "10            Yes                No             DSL                  Yes  ...   \n",
      "11            Yes                No              No  No internet service  ...   \n",
      "12            Yes               Yes     Fiber optic                   No  ...   \n",
      "13            Yes               Yes     Fiber optic                   No  ...   \n",
      "14            Yes                No     Fiber optic                  Yes  ...   \n",
      "15            Yes               Yes     Fiber optic                  Yes  ...   \n",
      "16            Yes                No              No  No internet service  ...   \n",
      "17            Yes               Yes     Fiber optic                  Yes  ...   \n",
      "18            Yes                No             DSL                   No  ...   \n",
      "19            Yes                No     Fiber optic                   No  ...   \n",
      "20             No  No phone service             DSL                   No  ...   \n",
      "21            Yes                No              No  No internet service  ...   \n",
      "22            Yes                No              No  No internet service  ...   \n",
      "23            Yes               Yes             DSL                   No  ...   \n",
      "24            Yes                No             DSL                  Yes  ...   \n",
      "25            Yes                No             DSL                  Yes  ...   \n",
      "26            Yes               Yes     Fiber optic                   No  ...   \n",
      "27             No  No phone service             DSL                   No  ...   \n",
      "28            Yes               Yes             DSL                  Yes  ...   \n",
      "29            Yes                No             DSL                   No  ...   \n",
      "...           ...               ...             ...                  ...  ...   \n",
      "7013          Yes               Yes     Fiber optic                   No  ...   \n",
      "7014          Yes               Yes     Fiber optic                   No  ...   \n",
      "7015          Yes                No     Fiber optic                   No  ...   \n",
      "7016          Yes                No             DSL                   No  ...   \n",
      "7017          Yes                No              No  No internet service  ...   \n",
      "7018          Yes                No     Fiber optic                   No  ...   \n",
      "7019          Yes                No              No  No internet service  ...   \n",
      "7020          Yes                No              No  No internet service  ...   \n",
      "7021          Yes                No             DSL                   No  ...   \n",
      "7022          Yes               Yes     Fiber optic                   No  ...   \n",
      "7023          Yes               Yes     Fiber optic                   No  ...   \n",
      "7024          Yes               Yes     Fiber optic                  Yes  ...   \n",
      "7025          Yes               Yes     Fiber optic                   No  ...   \n",
      "7026          Yes                No             DSL                   No  ...   \n",
      "7027          Yes                No             DSL                   No  ...   \n",
      "7028          Yes                No             DSL                   No  ...   \n",
      "7029           No  No phone service             DSL                   No  ...   \n",
      "7030          Yes                No              No  No internet service  ...   \n",
      "7031          Yes               Yes             DSL                  Yes  ...   \n",
      "7032          Yes               Yes     Fiber optic                   No  ...   \n",
      "7033          Yes                No     Fiber optic                   No  ...   \n",
      "7034          Yes               Yes     Fiber optic                  Yes  ...   \n",
      "7035          Yes                No     Fiber optic                   No  ...   \n",
      "7036           No  No phone service             DSL                   No  ...   \n",
      "7037          Yes                No              No  No internet service  ...   \n",
      "7038          Yes               Yes             DSL                  Yes  ...   \n",
      "7039          Yes               Yes     Fiber optic                   No  ...   \n",
      "7040           No  No phone service             DSL                  Yes  ...   \n",
      "7041          Yes               Yes     Fiber optic                   No  ...   \n",
      "7042          Yes                No     Fiber optic                  Yes  ...   \n",
      "\n",
      "         DeviceProtection          TechSupport          StreamingTV  \\\n",
      "0                      No                   No                   No   \n",
      "1                     Yes                   No                   No   \n",
      "2                      No                   No                   No   \n",
      "3                     Yes                  Yes                   No   \n",
      "4                      No                   No                   No   \n",
      "5                     Yes                   No                  Yes   \n",
      "6                      No                   No                  Yes   \n",
      "7                      No                   No                   No   \n",
      "8                     Yes                  Yes                  Yes   \n",
      "9                      No                   No                   No   \n",
      "10                     No                   No                   No   \n",
      "11    No internet service  No internet service  No internet service   \n",
      "12                    Yes                   No                  Yes   \n",
      "13                    Yes                   No                  Yes   \n",
      "14                    Yes                  Yes                  Yes   \n",
      "15                    Yes                  Yes                  Yes   \n",
      "16    No internet service  No internet service  No internet service   \n",
      "17                    Yes                   No                  Yes   \n",
      "18                    Yes                  Yes                   No   \n",
      "19                    Yes                   No                   No   \n",
      "20                    Yes                   No                   No   \n",
      "21    No internet service  No internet service  No internet service   \n",
      "22    No internet service  No internet service  No internet service   \n",
      "23                     No                  Yes                   No   \n",
      "24                     No                  Yes                   No   \n",
      "25                     No                   No                   No   \n",
      "26                     No                   No                  Yes   \n",
      "27                     No                   No                   No   \n",
      "28                    Yes                  Yes                  Yes   \n",
      "29                     No                   No                  Yes   \n",
      "...                   ...                  ...                  ...   \n",
      "7013                  Yes                   No                  Yes   \n",
      "7014                   No                   No                  Yes   \n",
      "7015                  Yes                   No                  Yes   \n",
      "7016                   No                   No                   No   \n",
      "7017  No internet service  No internet service  No internet service   \n",
      "7018                   No                   No                   No   \n",
      "7019  No internet service  No internet service  No internet service   \n",
      "7020  No internet service  No internet service  No internet service   \n",
      "7021                   No                  Yes                  Yes   \n",
      "7022                  Yes                   No                  Yes   \n",
      "7023                  Yes                   No                  Yes   \n",
      "7024                  Yes                   No                   No   \n",
      "7025                  Yes                  Yes                   No   \n",
      "7026                   No                   No                   No   \n",
      "7027                   No                  Yes                  Yes   \n",
      "7028                   No                  Yes                  Yes   \n",
      "7029                   No                   No                  Yes   \n",
      "7030  No internet service  No internet service  No internet service   \n",
      "7031                   No                   No                   No   \n",
      "7032                   No                   No                   No   \n",
      "7033                   No                   No                   No   \n",
      "7034                  Yes                   No                  Yes   \n",
      "7035                   No                   No                  Yes   \n",
      "7036                  Yes                  Yes                  Yes   \n",
      "7037  No internet service  No internet service  No internet service   \n",
      "7038                  Yes                  Yes                  Yes   \n",
      "7039                  Yes                   No                  Yes   \n",
      "7040                   No                   No                   No   \n",
      "7041                   No                   No                   No   \n",
      "7042                  Yes                  Yes                  Yes   \n",
      "\n",
      "          StreamingMovies        Contract PaperlessBilling  \\\n",
      "0                      No  Month-to-month              Yes   \n",
      "1                      No        One year               No   \n",
      "2                      No  Month-to-month              Yes   \n",
      "3                      No        One year               No   \n",
      "4                      No  Month-to-month              Yes   \n",
      "5                     Yes  Month-to-month              Yes   \n",
      "6                      No  Month-to-month              Yes   \n",
      "7                      No  Month-to-month               No   \n",
      "8                     Yes  Month-to-month              Yes   \n",
      "9                      No        One year               No   \n",
      "10                     No  Month-to-month              Yes   \n",
      "11    No internet service        Two year               No   \n",
      "12                    Yes        One year               No   \n",
      "13                    Yes  Month-to-month              Yes   \n",
      "14                    Yes  Month-to-month              Yes   \n",
      "15                    Yes        Two year               No   \n",
      "16    No internet service        One year               No   \n",
      "17                    Yes        Two year               No   \n",
      "18                     No  Month-to-month               No   \n",
      "19                    Yes  Month-to-month              Yes   \n",
      "20                    Yes  Month-to-month              Yes   \n",
      "21    No internet service        One year               No   \n",
      "22    No internet service  Month-to-month               No   \n",
      "23                     No        Two year              Yes   \n",
      "24                     No  Month-to-month               No   \n",
      "25                     No  Month-to-month              Yes   \n",
      "26                    Yes  Month-to-month              Yes   \n",
      "27                     No  Month-to-month               No   \n",
      "28                    Yes        Two year              Yes   \n",
      "29                    Yes  Month-to-month              Yes   \n",
      "...                   ...             ...              ...   \n",
      "7013                   No  Month-to-month              Yes   \n",
      "7014                   No  Month-to-month              Yes   \n",
      "7015                   No  Month-to-month              Yes   \n",
      "7016                   No  Month-to-month               No   \n",
      "7017  No internet service        Two year               No   \n",
      "7018                   No  Month-to-month              Yes   \n",
      "7019  No internet service        Two year               No   \n",
      "7020  No internet service  Month-to-month              Yes   \n",
      "7021                   No        One year              Yes   \n",
      "7022                  Yes        One year              Yes   \n",
      "7023                  Yes  Month-to-month              Yes   \n",
      "7024                   No  Month-to-month              Yes   \n",
      "7025                  Yes  Month-to-month              Yes   \n",
      "7026                   No  Month-to-month              Yes   \n",
      "7027                  Yes  Month-to-month               No   \n",
      "7028                   No        Two year               No   \n",
      "7029                  Yes  Month-to-month              Yes   \n",
      "7030  No internet service  Month-to-month              Yes   \n",
      "7031                   No        One year               No   \n",
      "7032                   No  Month-to-month              Yes   \n",
      "7033                   No  Month-to-month              Yes   \n",
      "7034                   No  Month-to-month              Yes   \n",
      "7035                   No  Month-to-month              Yes   \n",
      "7036                  Yes        One year               No   \n",
      "7037  No internet service        Two year              Yes   \n",
      "7038                  Yes        One year              Yes   \n",
      "7039                  Yes        One year              Yes   \n",
      "7040                   No  Month-to-month              Yes   \n",
      "7041                   No  Month-to-month              Yes   \n",
      "7042                  Yes        Two year              Yes   \n",
      "\n",
      "                  PaymentMethod MonthlyCharges  TotalCharges Churn  \n",
      "0              Electronic check          29.85         29.85    No  \n",
      "1                  Mailed check          56.95        1889.5    No  \n",
      "2                  Mailed check          53.85        108.15   Yes  \n",
      "3     Bank transfer (automatic)          42.30       1840.75    No  \n",
      "4              Electronic check          70.70        151.65   Yes  \n",
      "5              Electronic check          99.65         820.5   Yes  \n",
      "6       Credit card (automatic)          89.10        1949.4    No  \n",
      "7                  Mailed check          29.75         301.9    No  \n",
      "8              Electronic check         104.80       3046.05   Yes  \n",
      "9     Bank transfer (automatic)          56.15       3487.95    No  \n",
      "10                 Mailed check          49.95        587.45    No  \n",
      "11      Credit card (automatic)          18.95         326.8    No  \n",
      "12      Credit card (automatic)         100.35        5681.1    No  \n",
      "13    Bank transfer (automatic)         103.70        5036.3   Yes  \n",
      "14             Electronic check         105.50       2686.05    No  \n",
      "15      Credit card (automatic)         113.25       7895.15    No  \n",
      "16                 Mailed check          20.65       1022.95    No  \n",
      "17    Bank transfer (automatic)         106.70       7382.25    No  \n",
      "18      Credit card (automatic)          55.20        528.35   Yes  \n",
      "19             Electronic check          90.05        1862.9    No  \n",
      "20             Electronic check          39.65         39.65   Yes  \n",
      "21    Bank transfer (automatic)          19.80        202.25    No  \n",
      "22                 Mailed check          20.15         20.15   Yes  \n",
      "23      Credit card (automatic)          59.90        3505.1    No  \n",
      "24      Credit card (automatic)          59.60        2970.3    No  \n",
      "25    Bank transfer (automatic)          55.30        1530.6    No  \n",
      "26             Electronic check          99.35       4749.15   Yes  \n",
      "27             Electronic check          30.20          30.2   Yes  \n",
      "28      Credit card (automatic)          90.25       6369.45    No  \n",
      "29                 Mailed check          64.70        1093.1   Yes  \n",
      "...                         ...            ...           ...   ...  \n",
      "7013  Bank transfer (automatic)          93.40        3756.4    No  \n",
      "7014           Electronic check          89.20       3645.75    No  \n",
      "7015    Credit card (automatic)          85.20       2874.45    No  \n",
      "7016           Electronic check          49.95         49.95    No  \n",
      "7017  Bank transfer (automatic)          20.65       1020.75    No  \n",
      "7018               Mailed check          70.65         70.65   Yes  \n",
      "7019               Mailed check          20.15           826    No  \n",
      "7020           Electronic check          19.20           239    No  \n",
      "7021           Electronic check          59.80         727.8   Yes  \n",
      "7022           Electronic check         104.95        7544.3    No  \n",
      "7023           Electronic check         103.50        6479.4    No  \n",
      "7024    Credit card (automatic)          84.80       3626.35    No  \n",
      "7025  Bank transfer (automatic)          95.05        1679.4    No  \n",
      "7026  Bank transfer (automatic)          44.20        403.35   Yes  \n",
      "7027               Mailed check          73.35        931.55    No  \n",
      "7028  Bank transfer (automatic)          64.10       4326.25    No  \n",
      "7029           Electronic check          44.40        263.05    No  \n",
      "7030               Mailed check          20.05         39.25    No  \n",
      "7031    Credit card (automatic)          60.00        3316.1    No  \n",
      "7032           Electronic check          75.75         75.75   Yes  \n",
      "7033    Credit card (automatic)          69.50       2625.25    No  \n",
      "7034    Credit card (automatic)         102.95       6886.25   Yes  \n",
      "7035  Bank transfer (automatic)          78.70        1495.1    No  \n",
      "7036           Electronic check          60.65         743.3    No  \n",
      "7037  Bank transfer (automatic)          21.15        1419.4    No  \n",
      "7038               Mailed check          84.80        1990.5    No  \n",
      "7039    Credit card (automatic)         103.20        7362.9    No  \n",
      "7040           Electronic check          29.60        346.45    No  \n",
      "7041               Mailed check          74.40         306.6   Yes  \n",
      "7042  Bank transfer (automatic)         105.65        6844.5    No  \n",
      "\n",
      "[7043 rows x 21 columns]\n"
     ]
    }
   ],
   "source": [
    "#Print is used to display the dataset.\n",
    "print(telcom)"
   ]
  },
  {
   "cell_type": "code",
   "execution_count": 11,
   "metadata": {},
   "outputs": [
    {
     "data": {
      "text/html": [
       "<div>\n",
       "<style scoped>\n",
       "    .dataframe tbody tr th:only-of-type {\n",
       "        vertical-align: middle;\n",
       "    }\n",
       "\n",
       "    .dataframe tbody tr th {\n",
       "        vertical-align: top;\n",
       "    }\n",
       "\n",
       "    .dataframe thead th {\n",
       "        text-align: right;\n",
       "    }\n",
       "</style>\n",
       "<table border=\"1\" class=\"dataframe\">\n",
       "  <thead>\n",
       "    <tr style=\"text-align: right;\">\n",
       "      <th></th>\n",
       "      <th>customerID</th>\n",
       "      <th>gender</th>\n",
       "      <th>SeniorCitizen</th>\n",
       "      <th>Partner</th>\n",
       "      <th>Dependents</th>\n",
       "      <th>tenure</th>\n",
       "      <th>PhoneService</th>\n",
       "      <th>MultipleLines</th>\n",
       "      <th>InternetService</th>\n",
       "      <th>OnlineSecurity</th>\n",
       "      <th>...</th>\n",
       "      <th>DeviceProtection</th>\n",
       "      <th>TechSupport</th>\n",
       "      <th>StreamingTV</th>\n",
       "      <th>StreamingMovies</th>\n",
       "      <th>Contract</th>\n",
       "      <th>PaperlessBilling</th>\n",
       "      <th>PaymentMethod</th>\n",
       "      <th>MonthlyCharges</th>\n",
       "      <th>TotalCharges</th>\n",
       "      <th>Churn</th>\n",
       "    </tr>\n",
       "  </thead>\n",
       "  <tbody>\n",
       "    <tr>\n",
       "      <th>0</th>\n",
       "      <td>7590-VHVEG</td>\n",
       "      <td>Female</td>\n",
       "      <td>0</td>\n",
       "      <td>Yes</td>\n",
       "      <td>No</td>\n",
       "      <td>1</td>\n",
       "      <td>No</td>\n",
       "      <td>No phone service</td>\n",
       "      <td>DSL</td>\n",
       "      <td>No</td>\n",
       "      <td>...</td>\n",
       "      <td>No</td>\n",
       "      <td>No</td>\n",
       "      <td>No</td>\n",
       "      <td>No</td>\n",
       "      <td>Month-to-month</td>\n",
       "      <td>Yes</td>\n",
       "      <td>Electronic check</td>\n",
       "      <td>29.85</td>\n",
       "      <td>29.85</td>\n",
       "      <td>No</td>\n",
       "    </tr>\n",
       "    <tr>\n",
       "      <th>1</th>\n",
       "      <td>5575-GNVDE</td>\n",
       "      <td>Male</td>\n",
       "      <td>0</td>\n",
       "      <td>No</td>\n",
       "      <td>No</td>\n",
       "      <td>34</td>\n",
       "      <td>Yes</td>\n",
       "      <td>No</td>\n",
       "      <td>DSL</td>\n",
       "      <td>Yes</td>\n",
       "      <td>...</td>\n",
       "      <td>Yes</td>\n",
       "      <td>No</td>\n",
       "      <td>No</td>\n",
       "      <td>No</td>\n",
       "      <td>One year</td>\n",
       "      <td>No</td>\n",
       "      <td>Mailed check</td>\n",
       "      <td>56.95</td>\n",
       "      <td>1889.5</td>\n",
       "      <td>No</td>\n",
       "    </tr>\n",
       "    <tr>\n",
       "      <th>2</th>\n",
       "      <td>3668-QPYBK</td>\n",
       "      <td>Male</td>\n",
       "      <td>0</td>\n",
       "      <td>No</td>\n",
       "      <td>No</td>\n",
       "      <td>2</td>\n",
       "      <td>Yes</td>\n",
       "      <td>No</td>\n",
       "      <td>DSL</td>\n",
       "      <td>Yes</td>\n",
       "      <td>...</td>\n",
       "      <td>No</td>\n",
       "      <td>No</td>\n",
       "      <td>No</td>\n",
       "      <td>No</td>\n",
       "      <td>Month-to-month</td>\n",
       "      <td>Yes</td>\n",
       "      <td>Mailed check</td>\n",
       "      <td>53.85</td>\n",
       "      <td>108.15</td>\n",
       "      <td>Yes</td>\n",
       "    </tr>\n",
       "    <tr>\n",
       "      <th>3</th>\n",
       "      <td>7795-CFOCW</td>\n",
       "      <td>Male</td>\n",
       "      <td>0</td>\n",
       "      <td>No</td>\n",
       "      <td>No</td>\n",
       "      <td>45</td>\n",
       "      <td>No</td>\n",
       "      <td>No phone service</td>\n",
       "      <td>DSL</td>\n",
       "      <td>Yes</td>\n",
       "      <td>...</td>\n",
       "      <td>Yes</td>\n",
       "      <td>Yes</td>\n",
       "      <td>No</td>\n",
       "      <td>No</td>\n",
       "      <td>One year</td>\n",
       "      <td>No</td>\n",
       "      <td>Bank transfer (automatic)</td>\n",
       "      <td>42.30</td>\n",
       "      <td>1840.75</td>\n",
       "      <td>No</td>\n",
       "    </tr>\n",
       "    <tr>\n",
       "      <th>4</th>\n",
       "      <td>9237-HQITU</td>\n",
       "      <td>Female</td>\n",
       "      <td>0</td>\n",
       "      <td>No</td>\n",
       "      <td>No</td>\n",
       "      <td>2</td>\n",
       "      <td>Yes</td>\n",
       "      <td>No</td>\n",
       "      <td>Fiber optic</td>\n",
       "      <td>No</td>\n",
       "      <td>...</td>\n",
       "      <td>No</td>\n",
       "      <td>No</td>\n",
       "      <td>No</td>\n",
       "      <td>No</td>\n",
       "      <td>Month-to-month</td>\n",
       "      <td>Yes</td>\n",
       "      <td>Electronic check</td>\n",
       "      <td>70.70</td>\n",
       "      <td>151.65</td>\n",
       "      <td>Yes</td>\n",
       "    </tr>\n",
       "  </tbody>\n",
       "</table>\n",
       "<p>5 rows × 21 columns</p>\n",
       "</div>"
      ],
      "text/plain": [
       "   customerID  gender  SeniorCitizen Partner Dependents  tenure PhoneService  \\\n",
       "0  7590-VHVEG  Female              0     Yes         No       1           No   \n",
       "1  5575-GNVDE    Male              0      No         No      34          Yes   \n",
       "2  3668-QPYBK    Male              0      No         No       2          Yes   \n",
       "3  7795-CFOCW    Male              0      No         No      45           No   \n",
       "4  9237-HQITU  Female              0      No         No       2          Yes   \n",
       "\n",
       "      MultipleLines InternetService OnlineSecurity  ... DeviceProtection  \\\n",
       "0  No phone service             DSL             No  ...               No   \n",
       "1                No             DSL            Yes  ...              Yes   \n",
       "2                No             DSL            Yes  ...               No   \n",
       "3  No phone service             DSL            Yes  ...              Yes   \n",
       "4                No     Fiber optic             No  ...               No   \n",
       "\n",
       "  TechSupport StreamingTV StreamingMovies        Contract PaperlessBilling  \\\n",
       "0          No          No              No  Month-to-month              Yes   \n",
       "1          No          No              No        One year               No   \n",
       "2          No          No              No  Month-to-month              Yes   \n",
       "3         Yes          No              No        One year               No   \n",
       "4          No          No              No  Month-to-month              Yes   \n",
       "\n",
       "               PaymentMethod MonthlyCharges  TotalCharges Churn  \n",
       "0           Electronic check          29.85         29.85    No  \n",
       "1               Mailed check          56.95        1889.5    No  \n",
       "2               Mailed check          53.85        108.15   Yes  \n",
       "3  Bank transfer (automatic)          42.30       1840.75    No  \n",
       "4           Electronic check          70.70        151.65   Yes  \n",
       "\n",
       "[5 rows x 21 columns]"
      ]
     },
     "execution_count": 11,
     "metadata": {},
     "output_type": "execute_result"
    }
   ],
   "source": [
    "#Head shows the first five rows along with all the variables of the dataset.\n",
    "telcom.head()\n"
   ]
  },
  {
   "cell_type": "code",
   "execution_count": 12,
   "metadata": {},
   "outputs": [
    {
     "name": "stdout",
     "output_type": "stream",
     "text": [
      "Rows     :  7043\n",
      "Columns  :  21\n",
      "\n",
      "Features : \n",
      " ['customerID', 'gender', 'SeniorCitizen', 'Partner', 'Dependents', 'tenure', 'PhoneService', 'MultipleLines', 'InternetService', 'OnlineSecurity', 'OnlineBackup', 'DeviceProtection', 'TechSupport', 'StreamingTV', 'StreamingMovies', 'Contract', 'PaperlessBilling', 'PaymentMethod', 'MonthlyCharges', 'TotalCharges', 'Churn']\n",
      "\n",
      "Missing values :   0\n",
      "\n",
      "Unique values :  \n",
      " customerID          7043\n",
      "gender                 2\n",
      "SeniorCitizen          2\n",
      "Partner                2\n",
      "Dependents             2\n",
      "tenure                73\n",
      "PhoneService           2\n",
      "MultipleLines          3\n",
      "InternetService        3\n",
      "OnlineSecurity         3\n",
      "OnlineBackup           3\n",
      "DeviceProtection       3\n",
      "TechSupport            3\n",
      "StreamingTV            3\n",
      "StreamingMovies        3\n",
      "Contract               3\n",
      "PaperlessBilling       2\n",
      "PaymentMethod          4\n",
      "MonthlyCharges      1585\n",
      "TotalCharges        6531\n",
      "Churn                  2\n",
      "dtype: int64\n"
     ]
    }
   ],
   "source": [
    "print (\"Rows     : \" ,telcom.shape[0])\n",
    "print (\"Columns  : \" ,telcom.shape[1])\n",
    "print (\"\\nFeatures : \\n\" ,telcom.columns.tolist())\n",
    "print (\"\\nMissing values :  \", telcom.isnull().sum().values.sum())\n",
    "print (\"\\nUnique values :  \\n\",telcom.nunique())"
   ]
  },
  {
   "cell_type": "markdown",
   "metadata": {},
   "source": [
    "- *There are 7043 records in the dataset.\n",
    "- There are 21 features in the dataset - \"Churn\" is the target/dependent variable (this is what we will try to predict), and rest 30 are independent variables which we need to explore further.\n",
    "- Only 3 features are numeric - \"SeniorCitizen\" (categorical), and \"tenure\" and \"MonthlyCharges\" (continuous).\n",
    "- Datatype of the rest of the features is object, looking at the sample data they look like to be of type string. Some of these features are categorical, which we will map into numerical values.\n",
    "- There is absolutely NO missing data. This is amazing!"
   ]
  },
  {
   "cell_type": "code",
   "execution_count": null,
   "metadata": {},
   "outputs": [],
   "source": [
    "#To find out the distribution of churn rate "
   ]
  },
  {
   "cell_type": "code",
   "execution_count": 13,
   "metadata": {},
   "outputs": [
    {
     "data": {
      "image/png": "[encoded data removed]",
      "text/plain": [
       "<Figure size 576x360 with 1 Axes>"
      ]
     },
     "metadata": {
      "needs_background": "light"
     },
     "output_type": "display_data"
    }
   ],
   "source": [
    "fig, axes = plt.subplots(figsize=(8,5))\n",
    "data = telcom[\"Churn\"].value_counts(normalize=True)\n",
    "axes.bar(data.index, data*100, color=['green', 'red'])\n",
    "axes.set_title('Distribution of Churn %')\n",
    "axes.set_ylabel('Percentage')\n",
    "axes.set_xlabel('Did the customer leave?')\n",
    "plt.show()"
   ]
  },
  {
   "cell_type": "markdown",
   "metadata": {},
   "source": [
    "In the dataset provided, close to 30% customers churned, while the rest remained with the service provider."
   ]
  },
  {
   "cell_type": "code",
   "execution_count": 14,
   "metadata": {},
   "outputs": [],
   "source": [
    "# Create column ChurnVal with - Yes = 1 and No = 0\n",
    "churn_mapping = {\"No\": 0, \"Yes\": 1}\n",
    "telcom['ChurnVal'] = telcom['Churn'].map(churn_mapping)"
   ]
  },
  {
   "cell_type": "code",
   "execution_count": 15,
   "metadata": {},
   "outputs": [
    {
     "data": {
      "text/html": [
       "<div>\n",
       "<style scoped>\n",
       "    .dataframe tbody tr th:only-of-type {\n",
       "        vertical-align: middle;\n",
       "    }\n",
       "\n",
       "    .dataframe tbody tr th {\n",
       "        vertical-align: top;\n",
       "    }\n",
       "\n",
       "    .dataframe thead th {\n",
       "        text-align: right;\n",
       "    }\n",
       "</style>\n",
       "<table border=\"1\" class=\"dataframe\">\n",
       "  <thead>\n",
       "    <tr style=\"text-align: right;\">\n",
       "      <th></th>\n",
       "      <th>customerID</th>\n",
       "      <th>gender</th>\n",
       "      <th>SeniorCitizen</th>\n",
       "      <th>Partner</th>\n",
       "      <th>Dependents</th>\n",
       "      <th>tenure</th>\n",
       "      <th>PhoneService</th>\n",
       "      <th>MultipleLines</th>\n",
       "      <th>InternetService</th>\n",
       "      <th>OnlineSecurity</th>\n",
       "      <th>...</th>\n",
       "      <th>TechSupport</th>\n",
       "      <th>StreamingTV</th>\n",
       "      <th>StreamingMovies</th>\n",
       "      <th>Contract</th>\n",
       "      <th>PaperlessBilling</th>\n",
       "      <th>PaymentMethod</th>\n",
       "      <th>MonthlyCharges</th>\n",
       "      <th>TotalCharges</th>\n",
       "      <th>Churn</th>\n",
       "      <th>ChurnVal</th>\n",
       "    </tr>\n",
       "  </thead>\n",
       "  <tbody>\n",
       "    <tr>\n",
       "      <th>0</th>\n",
       "      <td>7590-VHVEG</td>\n",
       "      <td>Female</td>\n",
       "      <td>0</td>\n",
       "      <td>Yes</td>\n",
       "      <td>No</td>\n",
       "      <td>1</td>\n",
       "      <td>No</td>\n",
       "      <td>No phone service</td>\n",
       "      <td>DSL</td>\n",
       "      <td>No</td>\n",
       "      <td>...</td>\n",
       "      <td>No</td>\n",
       "      <td>No</td>\n",
       "      <td>No</td>\n",
       "      <td>Month-to-month</td>\n",
       "      <td>Yes</td>\n",
       "      <td>Electronic check</td>\n",
       "      <td>29.85</td>\n",
       "      <td>29.85</td>\n",
       "      <td>No</td>\n",
       "      <td>0</td>\n",
       "    </tr>\n",
       "    <tr>\n",
       "      <th>1</th>\n",
       "      <td>5575-GNVDE</td>\n",
       "      <td>Male</td>\n",
       "      <td>0</td>\n",
       "      <td>No</td>\n",
       "      <td>No</td>\n",
       "      <td>34</td>\n",
       "      <td>Yes</td>\n",
       "      <td>No</td>\n",
       "      <td>DSL</td>\n",
       "      <td>Yes</td>\n",
       "      <td>...</td>\n",
       "      <td>No</td>\n",
       "      <td>No</td>\n",
       "      <td>No</td>\n",
       "      <td>One year</td>\n",
       "      <td>No</td>\n",
       "      <td>Mailed check</td>\n",
       "      <td>56.95</td>\n",
       "      <td>1889.5</td>\n",
       "      <td>No</td>\n",
       "      <td>0</td>\n",
       "    </tr>\n",
       "    <tr>\n",
       "      <th>2</th>\n",
       "      <td>3668-QPYBK</td>\n",
       "      <td>Male</td>\n",
       "      <td>0</td>\n",
       "      <td>No</td>\n",
       "      <td>No</td>\n",
       "      <td>2</td>\n",
       "      <td>Yes</td>\n",
       "      <td>No</td>\n",
       "      <td>DSL</td>\n",
       "      <td>Yes</td>\n",
       "      <td>...</td>\n",
       "      <td>No</td>\n",
       "      <td>No</td>\n",
       "      <td>No</td>\n",
       "      <td>Month-to-month</td>\n",
       "      <td>Yes</td>\n",
       "      <td>Mailed check</td>\n",
       "      <td>53.85</td>\n",
       "      <td>108.15</td>\n",
       "      <td>Yes</td>\n",
       "      <td>1</td>\n",
       "    </tr>\n",
       "    <tr>\n",
       "      <th>3</th>\n",
       "      <td>7795-CFOCW</td>\n",
       "      <td>Male</td>\n",
       "      <td>0</td>\n",
       "      <td>No</td>\n",
       "      <td>No</td>\n",
       "      <td>45</td>\n",
       "      <td>No</td>\n",
       "      <td>No phone service</td>\n",
       "      <td>DSL</td>\n",
       "      <td>Yes</td>\n",
       "      <td>...</td>\n",
       "      <td>Yes</td>\n",
       "      <td>No</td>\n",
       "      <td>No</td>\n",
       "      <td>One year</td>\n",
       "      <td>No</td>\n",
       "      <td>Bank transfer (automatic)</td>\n",
       "      <td>42.30</td>\n",
       "      <td>1840.75</td>\n",
       "      <td>No</td>\n",
       "      <td>0</td>\n",
       "    </tr>\n",
       "    <tr>\n",
       "      <th>4</th>\n",
       "      <td>9237-HQITU</td>\n",
       "      <td>Female</td>\n",
       "      <td>0</td>\n",
       "      <td>No</td>\n",
       "      <td>No</td>\n",
       "      <td>2</td>\n",
       "      <td>Yes</td>\n",
       "      <td>No</td>\n",
       "      <td>Fiber optic</td>\n",
       "      <td>No</td>\n",
       "      <td>...</td>\n",
       "      <td>No</td>\n",
       "      <td>No</td>\n",
       "      <td>No</td>\n",
       "      <td>Month-to-month</td>\n",
       "      <td>Yes</td>\n",
       "      <td>Electronic check</td>\n",
       "      <td>70.70</td>\n",
       "      <td>151.65</td>\n",
       "      <td>Yes</td>\n",
       "      <td>1</td>\n",
       "    </tr>\n",
       "  </tbody>\n",
       "</table>\n",
       "<p>5 rows × 22 columns</p>\n",
       "</div>"
      ],
      "text/plain": [
       "   customerID  gender  SeniorCitizen Partner Dependents  tenure PhoneService  \\\n",
       "0  7590-VHVEG  Female              0     Yes         No       1           No   \n",
       "1  5575-GNVDE    Male              0      No         No      34          Yes   \n",
       "2  3668-QPYBK    Male              0      No         No       2          Yes   \n",
       "3  7795-CFOCW    Male              0      No         No      45           No   \n",
       "4  9237-HQITU  Female              0      No         No       2          Yes   \n",
       "\n",
       "      MultipleLines InternetService OnlineSecurity  ... TechSupport  \\\n",
       "0  No phone service             DSL             No  ...          No   \n",
       "1                No             DSL            Yes  ...          No   \n",
       "2                No             DSL            Yes  ...          No   \n",
       "3  No phone service             DSL            Yes  ...         Yes   \n",
       "4                No     Fiber optic             No  ...          No   \n",
       "\n",
       "  StreamingTV StreamingMovies        Contract PaperlessBilling  \\\n",
       "0          No              No  Month-to-month              Yes   \n",
       "1          No              No        One year               No   \n",
       "2          No              No  Month-to-month              Yes   \n",
       "3          No              No        One year               No   \n",
       "4          No              No  Month-to-month              Yes   \n",
       "\n",
       "               PaymentMethod MonthlyCharges TotalCharges  Churn ChurnVal  \n",
       "0           Electronic check          29.85        29.85     No        0  \n",
       "1               Mailed check          56.95       1889.5     No        0  \n",
       "2               Mailed check          53.85       108.15    Yes        1  \n",
       "3  Bank transfer (automatic)          42.30      1840.75     No        0  \n",
       "4           Electronic check          70.70       151.65    Yes        1  \n",
       "\n",
       "[5 rows x 22 columns]"
      ]
     },
     "execution_count": 15,
     "metadata": {},
     "output_type": "execute_result"
    }
   ],
   "source": [
    "telcom.head()\n",
    "\n",
    "#This is to show the first five rows with all the variables of the dataset.\n",
    "#We can see that the new column CharVal with numeric values of churn column has been added."
   ]
  },
  {
   "cell_type": "code",
   "execution_count": null,
   "metadata": {},
   "outputs": [],
   "source": [
    "#We have created an additional column called ChurnVal which displays the churn column in nurmeric form with YES=1 and NO=0 "
   ]
  },
  {
   "cell_type": "markdown",
   "metadata": {},
   "source": [
    "*GENDER\n",
    "\n",
    "To analyse if gender has any influence on the churning.\n",
    "\n",
    "First we need to analyse the gender distribution in the dataset."
   ]
  },
  {
   "cell_type": "code",
   "execution_count": 17,
   "metadata": {},
   "outputs": [
    {
     "data": {
      "image/png": "[encoded data removed]",
      "text/plain": [
       "<Figure size 576x360 with 1 Axes>"
      ]
     },
     "metadata": {
      "needs_background": "light"
     },
     "output_type": "display_data"
    }
   ],
   "source": [
    "fig, axes1 = plt.subplots(figsize=(8,5))\n",
    "\n",
    "# Plot distribution of gender data\n",
    "data = telcom[\"gender\"].value_counts(normalize=True)\n",
    "my_colors='rgbkymc'\n",
    "axes1.bar(data.index, data*100, color=my_colors)\n",
    "axes1.set_title('Distribution of Gender %')\n",
    "axes1.set_ylabel('Percentage')\n",
    "axes1.set_ylim(0,100)\n",
    "\n",
    "plt.show()"
   ]
  },
  {
   "cell_type": "markdown",
   "metadata": {},
   "source": [
    "The Dataset has almost equal distribution of Male and Female customers\n"
   ]
  },
  {
   "cell_type": "code",
   "execution_count": 22,
   "metadata": {},
   "outputs": [
    {
     "data": {
      "image/png": "[encoded data removed]",
      "text/plain": [
       "<Figure size 576x360 with 1 Axes>"
      ]
     },
     "metadata": {
      "needs_background": "light"
     },
     "output_type": "display_data"
    }
   ],
   "source": [
    "fig, axes3 = plt.subplots(figsize=(8,5))\n",
    "\n",
    "# Chances of churn based on gender\n",
    "sns.barplot(x=\"gender\", y=telcom[\"ChurnVal\"]*100, data=telcom, ci=None, ax=axes3)\n",
    "axes3.set_xlabel('Gender')\n",
    "axes3.set_ylabel('Churn %')\n",
    "from textwrap import wrap\n",
    "\n",
    "axes3.set_title('\\n'.join(wrap('Among customers in each gender, what is the percentage of churn?', 35)))\n",
    "axes3.set_ylim(0,100)\n",
    "plt.show()"
   ]
  },
  {
   "cell_type": "markdown",
   "metadata": {},
   "source": [
    "- Both in the churned or retained category - percentage of males and females are almost equally distributed.\n",
    "- Out of all male customers, approx 26% churned. While among females, the churn percentage is approx 27%. Both are almost at     equal level.\n",
    "- It can be concluded that probability of churn does not depend on gender of the customer."
   ]
  },
  {
   "cell_type": "markdown",
   "metadata": {},
   "source": [
    "*SENIOR CITIZENS "
   ]
  },
  {
   "cell_type": "markdown",
   "metadata": {},
   "source": [
    "To analyse if the customer in the dataset is a senior citizen or not "
   ]
  },
  {
   "cell_type": "code",
   "execution_count": null,
   "metadata": {},
   "outputs": [],
   "source": []
  },
  {
   "cell_type": "code",
   "execution_count": 24,
   "metadata": {
    "scrolled": false
   },
   "outputs": [
    {
     "data": {
      "image/png": "[encoded data removed]",
      "text/plain": [
       "<Figure size 720x864 with 2 Axes>"
      ]
     },
     "metadata": {
      "needs_background": "light"
     },
     "output_type": "display_data"
    }
   ],
   "source": [
    "fig, (axes1, axes2) = plt.subplots(2, 1, figsize=(10,12))\n",
    "\n",
    "data = telcom[\"SeniorCitizen\"].value_counts(normalize=True).sort_index()\n",
    "axes1.bar(data.index, data*100, color=my_colors)\n",
    "axes1.set_title('Distribution of Senior Citizen %')\n",
    "axes1.set_ylabel('Percentage')\n",
    "axes1.set_xticks([0, 1])\n",
    "axes1.set_xticklabels(['Non-Senior Citizen', 'Senior Citizen'])\n",
    "axes1.set_ylim(0,100)\n",
    "\n",
    "#The second plot shows the disturibution of churn based on senior citizen.\n",
    "\n",
    "sns.barplot(x=\"SeniorCitizen\", y=\"ChurnVal\", data=telcom, ci=None, ax=axes2)\n",
    "axes2.set_xlabel('Senior Citizen')\n",
    "axes2.set_ylabel('Churn %')\n",
    "axes2.set_title('Among senior citizens and other category, what is the percentage of churn?')\n",
    "axes2.set_xticklabels(['Non-Senior Citizen', 'Senior Citizen'])\n",
    "axes2.set_ylim(0,1)\n",
    "\n",
    "plt.show()\n"
   ]
  },
  {
   "cell_type": "markdown",
   "metadata": {},
   "source": [
    "- The first plot shows us that majority of the customers in the dataset are Non-Senior Citizens\n",
    "\n",
    "- The senior citizen customers churned more than 40%.\n",
    "\n",
    "- Non-senior customers churn percentage is less than 25%\n",
    "\n",
    "- We can come to a conclusion that Senior citizens tend to churn more compared  to younger customers."
   ]
  },
  {
   "cell_type": "markdown",
   "metadata": {},
   "source": [
    "*PARTNER\n",
    "\n",
    "Does the customer have a partner and does it influnce churn rate?"
   ]
  },
  {
   "cell_type": "code",
   "execution_count": 26,
   "metadata": {},
   "outputs": [
    {
     "data": {
      "image/png": "[encoded data removed]",
      "text/plain": [
       "<Figure size 1080x432 with 2 Axes>"
      ]
     },
     "metadata": {
      "needs_background": "light"
     },
     "output_type": "display_data"
    }
   ],
   "source": [
    "fig, [axes1, axes2] = plt.subplots(1, 2, figsize=(15,6))\n",
    "\n",
    "# Plot distribution of partner data\n",
    "data = telcom[\"Partner\"].value_counts(normalize=True)\n",
    "axes1.bar(data.index, data*100, color=my_colors)\n",
    "axes1.set_title('Distribution of Partner data %')\n",
    "axes1.set_xlabel('Living with partner?')\n",
    "axes1.set_ylabel('Percentage')\n",
    "axes1.set_ylim(0,100)\n",
    "\n",
    "# Chances of churn based on partner availibility\n",
    "sns.barplot(x=\"Partner\", y=telcom.ChurnVal*100, data=telcom, ci=None, ax=axes2)\n",
    "axes2.set_xlabel('Living with partner?')\n",
    "axes2.set_ylabel('Churn %')\n",
    "axes2.set_title(\"\\n\".join(wrap('What is the chance of churn based on presence of a partner?', 30)))\n",
    "axes2.set_ylim(0,100)\n",
    "\n",
    "plt.show()"
   ]
  },
  {
   "cell_type": "markdown",
   "metadata": {},
   "source": [
    "- The dataset contains almost equal distribution of customer data - either     living alone or with partner.\n",
    "\n",
    "- Customers living alone tend to churn more. the churn percentage of churn customers living alone is 35%. Customers Having       partners Churn rate is below 20%"
   ]
  },
  {
   "cell_type": "markdown",
   "metadata": {},
   "source": [
    "*DEPENDENTS\n",
    "\n",
    "Does Customer having dependents affect churn rate?\n",
    "\n",
    "The First plot shows the distribution of customers based on dependents.\n",
    "\n",
    "Second plot shows how the churn rate is affected based on dependents."
   ]
  },
  {
   "cell_type": "code",
   "execution_count": 27,
   "metadata": {},
   "outputs": [
    {
     "data": {
      "image/png": "[encoded data removed]",
      "text/plain": [
       "<Figure size 1080x432 with 2 Axes>"
      ]
     },
     "metadata": {
      "needs_background": "light"
     },
     "output_type": "display_data"
    }
   ],
   "source": [
    "from textwrap import wrap\n",
    "fig, [axes1, axes2] = plt.subplots(1, 2, figsize=(15,6))\n",
    "\n",
    "# Plot distribution of partner data\n",
    "data = telcom[\"Dependents\"].value_counts(normalize=True)\n",
    "axes1.bar(data.index, data*100, color=my_colors)\n",
    "axes1.set_title('Distribution of Dependents data %')\n",
    "axes1.set_ylabel('Percentage')\n",
    "axes1.set_ylim(0,100)\n",
    "\n",
    "# Chances of churn based on partner availibility\n",
    "sns.barplot(x=\"Dependents\", y=telcom.ChurnVal*100, data=telcom, ci=None, ax=axes2)\n",
    "axes2.set_ylabel('Churn %')\n",
    "axes2.set_title(\"\\n\".join(wrap('What is the chance of churn based on presence of dependents?', 30)))\n",
    "axes2.set_ylim(0,100)\n",
    "\n",
    "plt.show()\n"
   ]
  },
  {
   "cell_type": "markdown",
   "metadata": {},
   "source": [
    "- The dataset contains almost 70% customers who does not have a dependent, while 30% has one or more dependents.\n",
    "\n",
    "- Customers without depedents tend to churn more (~30% vs ~20%).\n",
    "\n",
    "- From Partner and Dependents data we can conclude that - customers who are single/independent, i.e. without partners or dependents tend to leave the CSP more, while customers with partner and/or dependents, usually continue with the same CSP.\n"
   ]
  },
  {
   "cell_type": "markdown",
   "metadata": {},
   "source": [
    "*TENURE \n",
    "\n",
    "Does customer churn depend on tenure\n",
    "\n",
    "We First divide the customer tenure into categories as1-year, 2-year to 6 years."
   ]
  },
  {
   "cell_type": "code",
   "execution_count": 28,
   "metadata": {},
   "outputs": [],
   "source": [
    "bins = [0, 12, 24, 36, 48, 60, 72]\n",
    "labels = ['1 yr', '2 yr', '3 yr', '4 yr', '5 yr', '6 yr']\n",
    "telcom['tenureGroup'] = pd.cut(telcom[\"tenure\"], bins, labels=labels)"
   ]
  },
  {
   "cell_type": "code",
   "execution_count": 33,
   "metadata": {},
   "outputs": [
    {
     "data": {
      "image/png": "[encoded data removed]",
      "text/plain": [
       "<Figure size 1080x432 with 2 Axes>"
      ]
     },
     "metadata": {
      "needs_background": "light"
     },
     "output_type": "display_data"
    }
   ],
   "source": [
    "#Plot a Bar plot of tenure vs Churn\n",
    "\n",
    "fig, [axes1, axes2] = plt.subplots(1,2,figsize=(15,6))\n",
    "sns.barplot(x=\"tenureGroup\", y=telcom.ChurnVal*100, data=telcom, ci=None, ax=axes1)\n",
    "axes1.set_xlabel('Tenure')\n",
    "axes1.set_ylabel('Churn %')\n",
    "axes1.set_ylim(0,100)\n",
    "axes1.set_title('Does tenure determine churn?')\n",
    "\n",
    "#Bar plot of tenur vs churn vs contract\n",
    "\n",
    "sns.barplot(x=\"tenureGroup\", y=telcom.ChurnVal*100, hue=\"Contract\", data=telcom, ci=None, ax=axes2)\n",
    "axes2.set_xlabel('Tenure')\n",
    "axes2.set_ylabel('Churn %')\n",
    "axes2.set_ylim(0,100)\n",
    "axes2.set_title('What role is contract playing in churn?')\n",
    "\n",
    "plt.show()\n"
   ]
  },
  {
   "cell_type": "markdown",
   "metadata": {},
   "source": [
    "- It is observed that newly acquired customers tend to churn more, close to 50% of the customers who have joined recently within 1 year have churned.\n",
    "\n",
    "- As customer tenure increases, the chance of churn decreases accordingly.\n",
    "\n",
    "- Hence, the Telecom service providers should concentrate on retaining newly acquired customers. If they can somehow hold the customers for more couple of years, the possibility of those customers continuing with the same teleom service provider increases multifold.\n",
    "\n",
    "- In addition, Telecom service provider should try to get customers on contract for longer duration instead of selling monthly plans. This is another important factor for churn determination.\n"
   ]
  },
  {
   "cell_type": "markdown",
   "metadata": {},
   "source": [
    "*CONTRACT \n",
    "\n",
    "To analyse disturibution of contract in the dataset and \n",
    "check the rate at which contract influences churn rate"
   ]
  },
  {
   "cell_type": "code",
   "execution_count": 34,
   "metadata": {},
   "outputs": [
    {
     "data": {
      "image/png": "[encoded data removed]",
      "text/plain": [
       "<Figure size 1080x432 with 2 Axes>"
      ]
     },
     "metadata": {
      "needs_background": "light"
     },
     "output_type": "display_data"
    }
   ],
   "source": [
    "fig, [axes1, axes2] = plt.subplots(1, 2, figsize=(15,6))\n",
    "\n",
    "# Plot distribution of Contract data\n",
    "data = telcom[\"Contract\"].value_counts(normalize=True)\n",
    "axes1.bar(data.index, data*100, color=my_colors)\n",
    "axes1.set_title('Distribution of Contract data %')\n",
    "axes1.set_ylabel('Percentage')\n",
    "axes1.set_ylim(0,100)\n",
    "\n",
    "# Chances of churn based on Contract\n",
    "sns.barplot(x=\"Contract\", y=telcom.ChurnVal*100, data=telcom, ci=None, ax=axes2)\n",
    "axes2.set_ylabel('Churn %')\n",
    "axes2.set_title(\"\\n\".join(wrap('What is the chance of churn based on Contract duration?', 30)))\n",
    "axes2.set_ylim(0,100)\n",
    "\n",
    "plt.show()"
   ]
  },
  {
   "cell_type": "markdown",
   "metadata": {},
   "source": [
    "- It is observed that 55% customer are on month-to-month or monthly plans.\n",
    "- while only close to 20% are on 1 or 2 year plan.\n",
    "- Another observation is the churn rate is high among monthly customers and least among 2-year contracted customers. \n",
    "- While this is expected because of the contract duration, this is an alarming signal for telecom service providers since they should try to retain contracted customers and bring the churn rate to near zero, in addition to spending effort on month-to-month customers."
   ]
  },
  {
   "cell_type": "markdown",
   "metadata": {},
   "source": [
    "*PAPERLESS BILLING \n",
    "\n",
    "This is to analyse how the customer prefers the bill to be delivered whether online or post.\n",
    "\n",
    "The first plot explains the distribution of paperless billing of customers in the dataset.\n",
    "\n",
    "Second plot shows the churn based on paperless billing."
   ]
  },
  {
   "cell_type": "code",
   "execution_count": 35,
   "metadata": {},
   "outputs": [
    {
     "data": {
      "image/png": "[encoded data removed]",
      "text/plain": [
       "<Figure size 1080x432 with 2 Axes>"
      ]
     },
     "metadata": {
      "needs_background": "light"
     },
     "output_type": "display_data"
    }
   ],
   "source": [
    "fig, [axes1, axes2] = plt.subplots(1, 2, figsize=(15,6))\n",
    "\n",
    "# Plot distribution of Paperless billing\n",
    "data = telcom[\"PaperlessBilling\"].value_counts(normalize=True)\n",
    "axes1.bar(data.index, data*100, color=my_colors)\n",
    "axes1.set_title('Distribution of Paperless Billing data %')\n",
    "axes1.set_ylabel('Percentage')\n",
    "axes1.set_ylim(0,100)\n",
    "\n",
    "# Chances of churn based on Paperless billing\n",
    "sns.barplot(x=\"PaperlessBilling\", y=telcom.ChurnVal*100, data=telcom, ci=None, ax=axes2)\n",
    "axes2.set_ylabel('Churn %')\n",
    "axes2.set_title(\"\\n\".join(wrap('What is the chance of churn based on bill delivery method?', 30)))\n",
    "axes2.set_ylim(0,100)\n",
    "\n",
    "plt.show()"
   ]
  },
  {
   "cell_type": "markdown",
   "metadata": {},
   "source": [
    "- It is observed that almost 60% customers prefer paper-less billing.\n",
    "- Second plot shows that almost 35% of them left the telecom service provider.\n",
    "- Apparently a direct relation between bill mode and churn cannot be established, it must be investigated if customers receiving soft copies of bills are getting clear and transparent information on all the charges, and proper service and care if they face any difficutly in interpreting the bills."
   ]
  },
  {
   "cell_type": "markdown",
   "metadata": {},
   "source": [
    "*PAYMENT METHOD \n",
    "\n",
    "The following plots explain how the customer expect his bill to be delivered? Through digital channels or by post?\n",
    "\n",
    "First plot shows the distribution of preference of customers based on payment methods. \n",
    "\n",
    "second plot shows the effect of churning based on the payment methods."
   ]
  },
  {
   "cell_type": "code",
   "execution_count": 36,
   "metadata": {},
   "outputs": [
    {
     "data": {
      "image/png": "[encoded data removed]",
      "text/plain": [
       "<Figure size 1080x432 with 2 Axes>"
      ]
     },
     "metadata": {
      "needs_background": "light"
     },
     "output_type": "display_data"
    }
   ],
   "source": [
    "from textwrap import wrap\n",
    "fig, [axes1, axes2] = plt.subplots(1, 2, figsize=(15,6))\n",
    "\n",
    "# Plot distribution of Contract data\n",
    "data = telcom[\"PaymentMethod\"].value_counts(normalize=True)\n",
    "axes1.bar(data.index, data*100, color=my_colors)\n",
    "axes1.set_title('Distribution of Payment Method data %')\n",
    "axes1.set_ylabel('Percentage')\n",
    "axes1.set_xticklabels(data.index, rotation=90)\n",
    "axes1.set_ylim(0,100)\n",
    "\n",
    "# Chances of churn based on Contract\n",
    "sns.barplot(x=\"PaymentMethod\", y=telcom.ChurnVal*100, data=telcom, ci=None, ax=axes2)\n",
    "axes2.set_ylabel('Churn %')\n",
    "[items.set_rotation(90) for items in axes2.get_xticklabels()]\n",
    "axes2.set_title(\"\\n\".join(wrap('What is the chance of churn based on Payment Method?', 30)))\n",
    "axes2.set_ylim(0,100)\n",
    "\n",
    "plt.show()"
   ]
  },
  {
   "cell_type": "markdown",
   "metadata": {},
   "source": [
    "- It is observed that customers with payment method as \"Electronic Check\" is slightly higher than customers with other modes of payment it is close to 35%\n",
    "\n",
    "- On the second plot we can see that those customers churn at a rate of 45% and is the highest.\n",
    "\n",
    "- The telecom service providers must encourage the cusomers to use automated mode of payments."
   ]
  },
  {
   "cell_type": "markdown",
   "metadata": {},
   "source": [
    "*MONTHLY CHARGES \n",
    "\n",
    "This is to analyse how the monthly charges are distributed in the dataset and how the churn rates differ based on them.\n"
   ]
  },
  {
   "cell_type": "code",
   "execution_count": 37,
   "metadata": {},
   "outputs": [
    {
     "data": {
      "image/png": "[encoded data removed]",
      "text/plain": [
       "<Figure size 1080x432 with 2 Axes>"
      ]
     },
     "metadata": {
      "needs_background": "light"
     },
     "output_type": "display_data"
    }
   ],
   "source": [
    "fig, [axes1, axes2] = plt.subplots(1,2,figsize=(15,6))\n",
    "\n",
    "# Plot Distribution of MonthlyCharges occurance\n",
    "sns.distplot(telcom.MonthlyCharges, color='orange', ax=axes1)\n",
    "axes1.set_title('Distribution of Monthly Charges')\n",
    "axes1.set_xlim(0,140)\n",
    "\n",
    "# Categorize MonthlyCharges into bins and plot\n",
    "telcom['MonthlyChargesCategory'] = pd.cut(telcom[\"MonthlyCharges\"], bins=10)\n",
    "sns.barplot(x='MonthlyChargesCategory', y='ChurnVal', data=telcom, ci=None, ax=axes2)\n",
    "[items.set_rotation(90) for items in axes2.get_xticklabels()]\n",
    "axes2.set_title('Churn rates based on monthly charges')\n",
    "\n",
    "plt.show()"
   ]
  },
  {
   "cell_type": "markdown",
   "metadata": {},
   "source": [
    "- It is observed that a huge number of customers use very cheap plans\n",
    "  and the churn rate with them is intersetingly low\n",
    "    \n",
    "- The observed churn rate is very high among high spender customers,\n",
    "  typically between USD 70 to USD 100 per month."
   ]
  },
  {
   "cell_type": "markdown",
   "metadata": {},
   "source": [
    "From the above analysis we can conclude with the following points:"
   ]
  },
  {
   "cell_type": "markdown",
   "metadata": {},
   "source": [
    "1. The features such as tenure group, Contract, Paperless Billing, Monthly Charges and Senior \n",
    "   Citizens appear to play a vital role in customer churn."
   ]
  },
  {
   "cell_type": "markdown",
   "metadata": {},
   "source": [
    "2. Tenure and Contract duration seems to be strong factors in determining churn."
   ]
  },
  {
   "cell_type": "markdown",
   "metadata": {},
   "source": [
    "3. the telecom service providers should investigate if customers receiving digital invoice have any concern with understanding the bill details."
   ]
  },
  {
   "cell_type": "markdown",
   "metadata": {},
   "source": [
    "4. They should encourage customers to move to automated payment."
   ]
  },
  {
   "cell_type": "markdown",
   "metadata": {},
   "source": [
    "5. Gender does not play an important role. However, they should take care of the experience of senior citizens."
   ]
  }
 ],
 "metadata": {
  "kernelspec": {
   "display_name": "Python 3",
   "language": "python",
   "name": "python3"
  },
  "language_info": {
   "codemirror_mode": {
    "name": "ipython",
    "version": 3
   },
   "file_extension": ".py",
   "mimetype": "text/x-python",
   "name": "python",
   "nbconvert_exporter": "python",
   "pygments_lexer": "ipython3",
   "version": "3.7.3"
  }
 },
 "nbformat": 4,
 "nbformat_minor": 2
}
